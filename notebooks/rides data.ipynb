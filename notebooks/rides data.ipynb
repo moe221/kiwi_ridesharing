{
 "cells": [
  {
   "cell_type": "markdown",
   "id": "b78b0d96",
   "metadata": {
    "toc": true
   },
   "source": [
    "<h1>Table of Contents<span class=\"tocSkip\"></span></h1>\n",
    "<div class=\"toc\"><ul class=\"toc-item\"></ul></div>"
   ]
  },
  {
   "cell_type": "code",
   "execution_count": 1,
   "id": "2755a3f7",
   "metadata": {},
   "outputs": [],
   "source": [
    "from os import kill\n",
    "import pandas as pd\n",
    "import numpy as np\n",
    "from kiwi_ridesharing.data import Kiwi"
   ]
  },
  {
   "cell_type": "code",
   "execution_count": 2,
   "id": "25ab96ee",
   "metadata": {},
   "outputs": [],
   "source": [
    "%load_ext autoreload\n",
    "%autoreload 2"
   ]
  },
  {
   "cell_type": "code",
   "execution_count": 3,
   "id": "17f8ecdf",
   "metadata": {},
   "outputs": [],
   "source": [
    "data = Kiwi().get_data()"
   ]
  },
  {
   "cell_type": "code",
   "execution_count": 4,
   "id": "a728795b",
   "metadata": {},
   "outputs": [],
   "source": [
    "rides = data[\"timestamps\"]\n",
    "rides[\"timestamp\"] = pd.to_datetime(rides[\"timestamp\"])\n",
    "timestamps = rides.pivot(values='timestamp', index=\"ride_id\", columns=\"event\").reset_index()"
   ]
  },
  {
   "cell_type": "code",
   "execution_count": 5,
   "id": "70fc0c38",
   "metadata": {},
   "outputs": [
    {
     "data": {
      "text/plain": [
       "Index(['ride_id', 'accepted_at', 'arrived_at', 'dropped_off_at',\n",
       "       'picked_up_at', 'requested_at'],\n",
       "      dtype='object', name='event')"
      ]
     },
     "execution_count": 5,
     "metadata": {},
     "output_type": "execute_result"
    }
   ],
   "source": [
    "timestamps.columns"
   ]
  },
  {
   "cell_type": "code",
   "execution_count": 6,
   "id": "c6e636d5",
   "metadata": {},
   "outputs": [
    {
     "data": {
      "text/plain": [
       "0         2.0\n",
       "1         1.0\n",
       "2         3.0\n",
       "3         4.0\n",
       "4         3.0\n",
       "         ... \n",
       "194076    3.0\n",
       "194077    2.0\n",
       "194078    2.0\n",
       "194079    1.0\n",
       "194080    6.0\n",
       "Length: 194081, dtype: float64"
      ]
     },
     "execution_count": 6,
     "metadata": {},
     "output_type": "execute_result"
    }
   ],
   "source": [
    "(timestamps[\"picked_up_at\"] - timestamps[\"arrived_at\"]).dt.seconds"
   ]
  },
  {
   "cell_type": "code",
   "execution_count": 7,
   "id": "54fe26c4",
   "metadata": {},
   "outputs": [
    {
     "data": {
      "text/plain": [
       "194081"
      ]
     },
     "execution_count": 7,
     "metadata": {},
     "output_type": "execute_result"
    }
   ],
   "source": [
    "rides[\"ride_id\"].nunique()"
   ]
  },
  {
   "cell_type": "code",
   "execution_count": 8,
   "id": "0f1f1259",
   "metadata": {},
   "outputs": [],
   "source": [
    "def get_duration_in_minutes():\n",
    "    \n",
    "    \"\"\"\n",
    "    Returns Dataframe with ride_id, and ride duration in minutes\n",
    "    \"\"\"\n",
    "    \n",
    "    rides = data[\"rides\"].copy()\n",
    "    rides[\"ride_duration_minutes\"] = round(rides[\"ride_duration\"]/60)\n",
    "    return rides[[\"ride_id\", \"ride_duration_minutes\"]]\n",
    "\n",
    "def get_duration_in_hours():\n",
    "    \n",
    "    \"\"\"\n",
    "    Returns Dataframe with ride_id, and ride duration in hours\n",
    "    \"\"\"\n",
    "    \n",
    "    rides = data[\"rides\"].copy()\n",
    "    rides[\"ride_duration_hours\"] = round(rides[\"ride_duration\"]/(60*60))\n",
    "    return rides[[\"ride_id\", \"ride_duration_hours\"]]    \n",
    "\n",
    "def get_speed_kmh():\n",
    "    \n",
    "    \"\"\"\n",
    "    Returns Dataframe with ride_id, and average speed in kmh\n",
    "    \"\"\"\n",
    "    rides = data[\"rides\"].copy()\n",
    "    rides[\"average_speed\"] = round((rides[\"ride_distance\"]/1000)/(rides[\"ride_duration\"]/(60*60)))\n",
    "    return rides[[\"ride_id\", \"average_speed\"]] \n",
    "\n",
    "def get_ride_timestamps():\n",
    "    \n",
    "    \"\"\"\n",
    "    Returns Dataframe with ride_id, accepted_at, arrived_at, dropped_off_at,\n",
    "    picked_up_at, and requested_at as columns\n",
    "    \"\"\"\n",
    "    timestamps = data[\"timestamps\"].copy()\n",
    "    timestamps[\"timestamp\"] = pd.to_datetime(timestamps[\"timestamp\"])\n",
    "    timestamps = timestamps.pivot(values='timestamp', index=\"ride_id\", columns=\"event\").reset_index()\n",
    "    timestamps.rename_axis(None, axis=1, inplace=True)\n",
    "    return timestamps\n",
    "\n",
    "def get_waittime_driver():\n",
    "    \n",
    "    \"\"\"\n",
    "    Returns Dataframe with ride_id, arrived_at, picked_up_at and\n",
    "    driver_wait_time in seconds\n",
    "    \"\"\"\n",
    "    \n",
    "    wait_time = get_ride_timestamps()\n",
    "    wait_time[\"driver_wait_time\"] = (wait_time[\"picked_up_at\"] - wait_time[\"arrived_at\"]).dt.seconds\n",
    "    return wait_time[[\"ride_id\", \"arrived_at\", \"picked_up_at\", \"driver_wait_time\"]]\n",
    "\n",
    "def get_waittime_customer():\n",
    "    \n",
    "    \"\"\"\n",
    "    Returns Dataframe with ride_id, arrived_at, picked_up_at and\n",
    "    customer_wait_time in seconds\n",
    "    \"\"\"\n",
    "    \n",
    "    wait_time = get_ride_timestamps()\n",
    "    wait_time[\"customer_wait_time\"] = (wait_time[\"arrived_at\"] - wait_time[\"accepted_at\"]).dt.seconds\n",
    "    return wait_time[[\"ride_id\", \"arrived_at\", \"picked_up_at\", \"customer_wait_time\"]]\n",
    "\n",
    "def get_full_rides_data():\n",
    "    \n",
    "    \"\"\"\n",
    "    Returns a DataFrame with the all following columns:\n",
    "    ['ride_id', 'requested_at', 'accepted_at', 'arrived_at', 'picked_up_at',\n",
    "    'dropped_off_at', 'ride_duration_minutes', 'ride_duration_hours',\n",
    "    'average_speed', 'driver_wait_time', 'customer_wait_time']\n",
    "    \"\"\"\n",
    "    \n",
    "    full_data =\\\n",
    "            get_duration_in_minutes()\\\n",
    "                .merge(\n",
    "                get_duration_in_hours(), on='ride_id', suffixes=('', '_DROP')\n",
    "            ).filter(regex=\"^(?!.*DROP)\").merge(\n",
    "                get_speed_kmh(), on='ride_id', suffixes=('', '_DROP')\n",
    "            ).filter(regex=\"^(?!.*DROP)\").merge(\n",
    "                get_ride_timestamps(), on='ride_id', suffixes=('', '_DROP')\n",
    "            ).filter(regex=\"^(?!.*DROP)\").merge(\n",
    "                get_waittime_driver(), on='ride_id', suffixes=('', '_DROP')\n",
    "            ).filter(regex=\"^(?!.*DROP)\").merge(\n",
    "                get_waittime_customer(), on='ride_id', suffixes=('', '_DROP')\n",
    "            ).filter(regex=\"^(?!.*DROP)\")\n",
    "    \n",
    "    return full_data[['ride_id','requested_at',\n",
    "                      'accepted_at', 'arrived_at',\n",
    "                      'picked_up_at', 'dropped_off_at',\n",
    "                      'ride_duration_minutes', 'ride_duration_hours',\n",
    "                      'average_speed','driver_wait_time','customer_wait_time']]\n"
   ]
  },
  {
   "cell_type": "code",
   "execution_count": 9,
   "id": "ca04d3bd",
   "metadata": {},
   "outputs": [],
   "source": [
    "df = get_full_rides_data()"
   ]
  },
  {
   "cell_type": "code",
   "execution_count": 10,
   "id": "3db4c0d0",
   "metadata": {},
   "outputs": [
    {
     "data": {
      "text/plain": [
       "ride_id                  0001480a2c27492b1f8cb5fbc38ca667\n",
       "requested_at                          2016-03-28 15:40:39\n",
       "accepted_at                           2016-03-28 15:40:42\n",
       "arrived_at                            2016-03-28 15:41:40\n",
       "picked_up_at                          2016-03-28 15:41:39\n",
       "dropped_off_at                        2016-03-28 15:51:57\n",
       "ride_duration_minutes                                 0.0\n",
       "ride_duration_hours                                   0.0\n",
       "average_speed                                         0.0\n",
       "driver_wait_time                                  82924.0\n",
       "customer_wait_time                                    4.0\n",
       "dtype: object"
      ]
     },
     "execution_count": 10,
     "metadata": {},
     "output_type": "execute_result"
    }
   ],
   "source": [
    "df[df[\"arrived_at\"] > df[\"picked_up_at\"]].min()"
   ]
  },
  {
   "cell_type": "code",
   "execution_count": 11,
   "id": "ab8e842e",
   "metadata": {},
   "outputs": [
    {
     "data": {
      "text/html": [
       "<div>\n",
       "<style scoped>\n",
       "    .dataframe tbody tr th:only-of-type {\n",
       "        vertical-align: middle;\n",
       "    }\n",
       "\n",
       "    .dataframe tbody tr th {\n",
       "        vertical-align: top;\n",
       "    }\n",
       "\n",
       "    .dataframe thead th {\n",
       "        text-align: right;\n",
       "    }\n",
       "</style>\n",
       "<table border=\"1\" class=\"dataframe\">\n",
       "  <thead>\n",
       "    <tr style=\"text-align: right;\">\n",
       "      <th></th>\n",
       "      <th>ride_id</th>\n",
       "      <th>requested_at</th>\n",
       "      <th>accepted_at</th>\n",
       "      <th>arrived_at</th>\n",
       "      <th>picked_up_at</th>\n",
       "      <th>dropped_off_at</th>\n",
       "      <th>ride_duration_minutes</th>\n",
       "      <th>ride_duration_hours</th>\n",
       "      <th>average_speed</th>\n",
       "      <th>driver_wait_time</th>\n",
       "      <th>customer_wait_time</th>\n",
       "    </tr>\n",
       "  </thead>\n",
       "  <tbody>\n",
       "    <tr>\n",
       "      <th>182580</th>\n",
       "      <td>019dbbfb6180540bcc4b509567fb2cfe</td>\n",
       "      <td>2016-04-14 16:00:26</td>\n",
       "      <td>2016-04-14 16:00:30</td>\n",
       "      <td>2016-04-15 03:39:56</td>\n",
       "      <td>2016-04-15 03:13:47</td>\n",
       "      <td>2016-04-15 03:40:28</td>\n",
       "      <td>27.0</td>\n",
       "      <td>0.0</td>\n",
       "      <td>42.0</td>\n",
       "      <td>84831.0</td>\n",
       "      <td>41966.0</td>\n",
       "    </tr>\n",
       "  </tbody>\n",
       "</table>\n",
       "</div>"
      ],
      "text/plain": [
       "                                 ride_id        requested_at  \\\n",
       "182580  019dbbfb6180540bcc4b509567fb2cfe 2016-04-14 16:00:26   \n",
       "\n",
       "               accepted_at          arrived_at        picked_up_at  \\\n",
       "182580 2016-04-14 16:00:30 2016-04-15 03:39:56 2016-04-15 03:13:47   \n",
       "\n",
       "            dropped_off_at  ride_duration_minutes  ride_duration_hours  \\\n",
       "182580 2016-04-15 03:40:28                   27.0                  0.0   \n",
       "\n",
       "        average_speed  driver_wait_time  customer_wait_time  \n",
       "182580           42.0           84831.0             41966.0  "
      ]
     },
     "execution_count": 11,
     "metadata": {},
     "output_type": "execute_result"
    }
   ],
   "source": [
    "df[df[\"customer_wait_time\"] == df[\"customer_wait_time\"].max()]"
   ]
  },
  {
   "cell_type": "markdown",
   "id": "dba9c000",
   "metadata": {},
   "source": [
    "In this case, it might be that the customer moved away from the pickup point and met with the driver in a location near the original pickup point. The driver then passed the original pickup point after picking up the customer."
   ]
  },
  {
   "cell_type": "code",
   "execution_count": 12,
   "id": "873804fd",
   "metadata": {},
   "outputs": [
    {
     "data": {
      "text/html": [
       "<div>\n",
       "<style scoped>\n",
       "    .dataframe tbody tr th:only-of-type {\n",
       "        vertical-align: middle;\n",
       "    }\n",
       "\n",
       "    .dataframe tbody tr th {\n",
       "        vertical-align: top;\n",
       "    }\n",
       "\n",
       "    .dataframe thead th {\n",
       "        text-align: right;\n",
       "    }\n",
       "</style>\n",
       "<table border=\"1\" class=\"dataframe\">\n",
       "  <thead>\n",
       "    <tr style=\"text-align: right;\">\n",
       "      <th></th>\n",
       "      <th>ride_id</th>\n",
       "      <th>requested_at</th>\n",
       "      <th>accepted_at</th>\n",
       "      <th>arrived_at</th>\n",
       "      <th>picked_up_at</th>\n",
       "      <th>dropped_off_at</th>\n",
       "      <th>ride_duration_minutes</th>\n",
       "      <th>ride_duration_hours</th>\n",
       "      <th>average_speed</th>\n",
       "      <th>driver_wait_time</th>\n",
       "      <th>customer_wait_time</th>\n",
       "    </tr>\n",
       "  </thead>\n",
       "  <tbody>\n",
       "    <tr>\n",
       "      <th>97152</th>\n",
       "      <td>72f0fa0bd86800e9da5c4dced32c8735</td>\n",
       "      <td>2016-04-20 11:56:50</td>\n",
       "      <td>2016-04-20 11:57:20</td>\n",
       "      <td>NaT</td>\n",
       "      <td>2016-04-20 12:02:20</td>\n",
       "      <td>2016-04-20 12:16:30</td>\n",
       "      <td>14.0</td>\n",
       "      <td>0.0</td>\n",
       "      <td>19.0</td>\n",
       "      <td>NaN</td>\n",
       "      <td>NaN</td>\n",
       "    </tr>\n",
       "  </tbody>\n",
       "</table>\n",
       "</div>"
      ],
      "text/plain": [
       "                                ride_id        requested_at  \\\n",
       "97152  72f0fa0bd86800e9da5c4dced32c8735 2016-04-20 11:56:50   \n",
       "\n",
       "              accepted_at arrived_at        picked_up_at      dropped_off_at  \\\n",
       "97152 2016-04-20 11:57:20        NaT 2016-04-20 12:02:20 2016-04-20 12:16:30   \n",
       "\n",
       "       ride_duration_minutes  ride_duration_hours  average_speed  \\\n",
       "97152                   14.0                  0.0           19.0   \n",
       "\n",
       "       driver_wait_time  customer_wait_time  \n",
       "97152               NaN                 NaN  "
      ]
     },
     "execution_count": 12,
     "metadata": {},
     "output_type": "execute_result"
    }
   ],
   "source": [
    "df[df['ride_id'] == \"72f0fa0bd86800e9da5c4dced32c8735\"]"
   ]
  },
  {
   "cell_type": "code",
   "execution_count": 17,
   "id": "1aec5366",
   "metadata": {},
   "outputs": [],
   "source": [
    "from kiwi_ridesharing.ride import Ride\n",
    "df_new = Ride().get_full_rides_data(clean_data=True)"
   ]
  },
  {
   "cell_type": "code",
   "execution_count": 18,
   "id": "2617a1e3",
   "metadata": {},
   "outputs": [
    {
     "data": {
      "text/html": [
       "<div>\n",
       "<style scoped>\n",
       "    .dataframe tbody tr th:only-of-type {\n",
       "        vertical-align: middle;\n",
       "    }\n",
       "\n",
       "    .dataframe tbody tr th {\n",
       "        vertical-align: top;\n",
       "    }\n",
       "\n",
       "    .dataframe thead th {\n",
       "        text-align: right;\n",
       "    }\n",
       "</style>\n",
       "<table border=\"1\" class=\"dataframe\">\n",
       "  <thead>\n",
       "    <tr style=\"text-align: right;\">\n",
       "      <th></th>\n",
       "      <th>ride_id</th>\n",
       "      <th>requested_at</th>\n",
       "      <th>accepted_at</th>\n",
       "      <th>arrived_at</th>\n",
       "      <th>picked_up_at</th>\n",
       "      <th>dropped_off_at</th>\n",
       "      <th>ride_duration_minutes</th>\n",
       "      <th>ride_duration_hours</th>\n",
       "      <th>average_speed</th>\n",
       "      <th>driver_wait_time</th>\n",
       "      <th>customer_wait_time</th>\n",
       "    </tr>\n",
       "  </thead>\n",
       "  <tbody>\n",
       "    <tr>\n",
       "      <th>97152</th>\n",
       "      <td>72f0fa0bd86800e9da5c4dced32c8735</td>\n",
       "      <td>2016-04-20 11:56:50</td>\n",
       "      <td>2016-04-20 11:57:20</td>\n",
       "      <td>2016-04-20 12:02:20</td>\n",
       "      <td>2016-04-20 12:02:20</td>\n",
       "      <td>2016-04-20 12:16:30</td>\n",
       "      <td>14.0</td>\n",
       "      <td>0.0</td>\n",
       "      <td>19.0</td>\n",
       "      <td>0</td>\n",
       "      <td>300</td>\n",
       "    </tr>\n",
       "  </tbody>\n",
       "</table>\n",
       "</div>"
      ],
      "text/plain": [
       "                                ride_id        requested_at  \\\n",
       "97152  72f0fa0bd86800e9da5c4dced32c8735 2016-04-20 11:56:50   \n",
       "\n",
       "              accepted_at          arrived_at        picked_up_at  \\\n",
       "97152 2016-04-20 11:57:20 2016-04-20 12:02:20 2016-04-20 12:02:20   \n",
       "\n",
       "           dropped_off_at  ride_duration_minutes  ride_duration_hours  \\\n",
       "97152 2016-04-20 12:16:30                   14.0                  0.0   \n",
       "\n",
       "       average_speed  driver_wait_time  customer_wait_time  \n",
       "97152           19.0                 0                 300  "
      ]
     },
     "execution_count": 18,
     "metadata": {},
     "output_type": "execute_result"
    }
   ],
   "source": [
    "df_new[df_new['ride_id'] == \"72f0fa0bd86800e9da5c4dced32c8735\"]"
   ]
  },
  {
   "cell_type": "code",
   "execution_count": 21,
   "id": "1548942d",
   "metadata": {},
   "outputs": [
    {
     "data": {
      "text/html": [
       "<div>\n",
       "<style scoped>\n",
       "    .dataframe tbody tr th:only-of-type {\n",
       "        vertical-align: middle;\n",
       "    }\n",
       "\n",
       "    .dataframe tbody tr th {\n",
       "        vertical-align: top;\n",
       "    }\n",
       "\n",
       "    .dataframe thead th {\n",
       "        text-align: right;\n",
       "    }\n",
       "</style>\n",
       "<table border=\"1\" class=\"dataframe\">\n",
       "  <thead>\n",
       "    <tr style=\"text-align: right;\">\n",
       "      <th></th>\n",
       "      <th>ride_id</th>\n",
       "      <th>requested_at</th>\n",
       "      <th>accepted_at</th>\n",
       "      <th>arrived_at</th>\n",
       "      <th>picked_up_at</th>\n",
       "      <th>dropped_off_at</th>\n",
       "      <th>ride_duration_minutes</th>\n",
       "      <th>ride_duration_hours</th>\n",
       "      <th>average_speed</th>\n",
       "      <th>driver_wait_time</th>\n",
       "      <th>customer_wait_time</th>\n",
       "    </tr>\n",
       "  </thead>\n",
       "  <tbody>\n",
       "  </tbody>\n",
       "</table>\n",
       "</div>"
      ],
      "text/plain": [
       "Empty DataFrame\n",
       "Columns: [ride_id, requested_at, accepted_at, arrived_at, picked_up_at, dropped_off_at, ride_duration_minutes, ride_duration_hours, average_speed, driver_wait_time, customer_wait_time]\n",
       "Index: []"
      ]
     },
     "execution_count": 21,
     "metadata": {},
     "output_type": "execute_result"
    }
   ],
   "source": [
    "df_new[df_new[\"arrived_at\"] ]"
   ]
  },
  {
   "cell_type": "code",
   "execution_count": null,
   "id": "7fc6fc54",
   "metadata": {},
   "outputs": [],
   "source": []
  }
 ],
 "metadata": {
  "kernelspec": {
   "display_name": "Python 3 (ipykernel)",
   "language": "python",
   "name": "python3"
  },
  "language_info": {
   "codemirror_mode": {
    "name": "ipython",
    "version": 3
   },
   "file_extension": ".py",
   "mimetype": "text/x-python",
   "name": "python",
   "nbconvert_exporter": "python",
   "pygments_lexer": "ipython3",
   "version": "3.8.12"
  },
  "toc": {
   "base_numbering": 1,
   "nav_menu": {},
   "number_sections": true,
   "sideBar": true,
   "skip_h1_title": false,
   "title_cell": "Table of Contents",
   "title_sidebar": "Contents",
   "toc_cell": true,
   "toc_position": {},
   "toc_section_display": true,
   "toc_window_display": true
  }
 },
 "nbformat": 4,
 "nbformat_minor": 5
}
